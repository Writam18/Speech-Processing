{
  "nbformat": 4,
  "nbformat_minor": 0,
  "metadata": {
    "colab": {
      "name": "Speech Emotion Recognition.ipynb",
      "version": "0.3.2",
      "provenance": [],
      "collapsed_sections": []
    },
    "kernelspec": {
      "name": "python3",
      "display_name": "Python 3"
    },
    "accelerator": "GPU"
  },
  "cells": [
    {
      "cell_type": "markdown",
      "metadata": {
        "id": "JJW5hgbZ-Ts_",
        "colab_type": "text"
      },
      "source": [
        "#Loading Dataset"
      ]
    },
    {
      "cell_type": "code",
      "metadata": {
        "id": "OSGoR5gzp9-Y",
        "colab_type": "code",
        "colab": {}
      },
      "source": [
        "!pip install -q kaggle"
      ],
      "execution_count": 0,
      "outputs": []
    },
    {
      "cell_type": "code",
      "metadata": {
        "id": "rtGt82w3uvn9",
        "colab_type": "code",
        "outputId": "7a275c58-3105-4610-da9e-3f587f7a7dd6",
        "colab": {
          "resources": {
            "http://localhost:8080/nbextensions/google.colab/files.js": {
              "data": "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",
              "ok": true,
              "headers": [
                [
                  "content-type",
                  "application/javascript"
                ]
              ],
              "status": 200,
              "status_text": ""
            }
          },
          "base_uri": "https://localhost:8080/",
          "height": 91
        }
      },
      "source": [
        "from google.colab import files\n",
        "files.upload()"
      ],
      "execution_count": 0,
      "outputs": [
        {
          "output_type": "display_data",
          "data": {
            "text/html": [
              "\n",
              "     <input type=\"file\" id=\"files-9823be0b-3f17-42f3-93e2-c46b3149469d\" name=\"files[]\" multiple disabled />\n",
              "     <output id=\"result-9823be0b-3f17-42f3-93e2-c46b3149469d\">\n",
              "      Upload widget is only available when the cell has been executed in the\n",
              "      current browser session. Please rerun this cell to enable.\n",
              "      </output>\n",
              "      <script src=\"/nbextensions/google.colab/files.js\"></script> "
            ],
            "text/plain": [
              "<IPython.core.display.HTML object>"
            ]
          },
          "metadata": {
            "tags": []
          }
        },
        {
          "output_type": "stream",
          "text": [
            "Saving kaggle.json to kaggle.json\n"
          ],
          "name": "stdout"
        },
        {
          "output_type": "execute_result",
          "data": {
            "text/plain": [
              "{'kaggle.json': b'{\"username\":\"writammallik\",\"key\":\"e5e3703be39ae2165480979852bc602d\"}'}"
            ]
          },
          "metadata": {
            "tags": []
          },
          "execution_count": 2
        }
      ]
    },
    {
      "cell_type": "code",
      "metadata": {
        "id": "4k5BwLfnuymd",
        "colab_type": "code",
        "colab": {}
      },
      "source": [
        "!mkdir -p ~/.kaggle\n",
        "!cp kaggle.json ~/.kaggle/"
      ],
      "execution_count": 0,
      "outputs": []
    },
    {
      "cell_type": "code",
      "metadata": {
        "id": "FNW1w2qbu77t",
        "colab_type": "code",
        "outputId": "9de1c09f-4547-44d6-aa20-90f2580011f4",
        "colab": {
          "base_uri": "https://localhost:8080/",
          "height": 84
        }
      },
      "source": [
        "!kaggle datasets download -d uwrfkaggler/ravdess-emotional-speech-audio"
      ],
      "execution_count": 0,
      "outputs": [
        {
          "output_type": "stream",
          "text": [
            "Warning: Your Kaggle API key is readable by other users on this system! To fix this, you can run 'chmod 600 /root/.kaggle/kaggle.json'\n",
            "Downloading ravdess-emotional-speech-audio.zip to /content\n",
            " 94% 187M/199M [00:04<00:00, 54.6MB/s]\n",
            "100% 199M/199M [00:04<00:00, 50.5MB/s]\n"
          ],
          "name": "stdout"
        }
      ]
    },
    {
      "cell_type": "code",
      "metadata": {
        "id": "uCmI1bstu_kS",
        "colab_type": "code",
        "outputId": "5fc9788d-f18c-42d2-e9fd-fdabd35a5ffd",
        "colab": {
          "base_uri": "https://localhost:8080/",
          "height": 34
        }
      },
      "source": [
        "from zipfile import ZipFile\n",
        "\n",
        "file_name = \"/content/ravdess-emotional-speech-audio.zip\"\n",
        "with ZipFile(file_name,'r') as zip:\n",
        "  zip.extractall()\n",
        "  print('Done')"
      ],
      "execution_count": 0,
      "outputs": [
        {
          "output_type": "stream",
          "text": [
            "Done\n"
          ],
          "name": "stdout"
        }
      ]
    },
    {
      "cell_type": "markdown",
      "metadata": {
        "id": "kK2eIaMu-ZOx",
        "colab_type": "text"
      },
      "source": [
        "#Importing Dependencies"
      ]
    },
    {
      "cell_type": "code",
      "metadata": {
        "id": "uKHdtZTFwBme",
        "colab_type": "code",
        "outputId": "d0536dd3-9ba3-454c-e742-f05863dc3de1",
        "colab": {
          "base_uri": "https://localhost:8080/",
          "height": 34
        }
      },
      "source": [
        "import glob  \n",
        "import os  \n",
        "import librosa  \n",
        "import numpy as np  \n",
        "from keras.models import Sequential  \n",
        "from keras.layers import Dense, Activation  \n",
        "from keras.layers import Dropout  \n",
        "from sklearn.model_selection import train_test_split  \n",
        "from sklearn.metrics import confusion_matrix  \n",
        "import pandas as pd  \n",
        "import seaborn as sns  \n",
        "import matplotlib.pyplot as plt"
      ],
      "execution_count": 0,
      "outputs": [
        {
          "output_type": "stream",
          "text": [
            "Using TensorFlow backend.\n"
          ],
          "name": "stderr"
        }
      ]
    },
    {
      "cell_type": "markdown",
      "metadata": {
        "id": "ZuhpJqg9-rEl",
        "colab_type": "text"
      },
      "source": [
        "#Feature Extraction"
      ]
    },
    {
      "cell_type": "code",
      "metadata": {
        "id": "2-HgV4wwxE3l",
        "colab_type": "code",
        "colab": {}
      },
      "source": [
        "def extract_feature(file_name): \n",
        "    X, sample_rate = librosa.load(file_name)\n",
        "    stft = np.abs(librosa.stft(X))\n",
        "    mfccs = np.mean(librosa.feature.mfcc(y=X, sr=sample_rate, n_mfcc=40).T,axis=0)\n",
        "    chroma = np.mean(librosa.feature.chroma_stft(S=stft, sr=sample_rate).T,axis=0)\n",
        "    mel = np.mean(librosa.feature.melspectrogram(X, sr=sample_rate).T,axis=0)\n",
        "    contrast = np.mean(librosa.feature.spectral_contrast(S=stft, sr=sample_rate).T,axis=0)\n",
        "    tonnetz = np.mean(librosa.feature.tonnetz(y=librosa.effects.harmonic(X),sr=sample_rate).T,axis=0)\n",
        "    return mfccs,chroma,mel,contrast,tonnetz"
      ],
      "execution_count": 0,
      "outputs": []
    },
    {
      "cell_type": "code",
      "metadata": {
        "id": "83sGzWyjxVea",
        "colab_type": "code",
        "colab": {}
      },
      "source": [
        "def parse_audio_files(parent_dir,sub_dirs,file_ext=\"*.wav\"):\n",
        "    features = np.empty((0,193))\n",
        "    labels=[]\n",
        "    for label, sub_dir in enumerate(sub_dirs):\n",
        "        for fn in glob.glob(os.path.join(parent_dir, sub_dir, file_ext)):\n",
        "            try:\n",
        "              mfccs, chroma, mel, contrast,tonnetz = extract_feature(fn)\n",
        "            except Exception as e:\n",
        "              print (\"Error encountered while parsing file: \", fn)\n",
        "              continue\n",
        "            ext_features = np.hstack([mfccs,chroma,mel,contrast,tonnetz])\n",
        "            features = np.vstack([features,ext_features])\n",
        "            labels.append(fn.split('/')[3].split('-')[2])\n",
        "    return np.array(features), np.array(labels, dtype = np.int)"
      ],
      "execution_count": 0,
      "outputs": []
    },
    {
      "cell_type": "code",
      "metadata": {
        "id": "9PMoPHQGxb4g",
        "colab_type": "code",
        "colab": {}
      },
      "source": [
        "def one_hot_encode(labels):\n",
        "    n_labels = len(labels)\n",
        "    n_unique_labels = len(np.unique(labels))\n",
        "    one_hot_encode = np.zeros((n_labels,n_unique_labels+1))\n",
        "    one_hot_encode[np.arange(n_labels), labels] = 1\n",
        "    one_hot_encode=np.delete(one_hot_encode, 0, axis=1)\n",
        "    return one_hot_encode"
      ],
      "execution_count": 0,
      "outputs": []
    },
    {
      "cell_type": "code",
      "metadata": {
        "id": "dJf8JNTHP8p3",
        "colab_type": "code",
        "outputId": "25493ea6-438a-43b3-d277-d30899a99369",
        "colab": {
          "base_uri": "https://localhost:8080/",
          "height": 101
        }
      },
      "source": [
        "main_dir = \"/content\" \n",
        "sub_dir=os.listdir(main_dir)  \n",
        "sub_dir.remove('.config')\n",
        "sub_dir.remove('kaggle.json')\n",
        "sub_dir.remove('ravdess-emotional-speech-audio.zip')\n",
        "sub_dir.remove('sample_data')\n",
        "print (\"\\ncollecting features and labels...\")  \n",
        "print(\"\\nthis will take some time...\")  \n",
        "features, labels = parse_audio_files(main_dir,sub_dir)  \n",
        "print(\"done\")  \n",
        "np.save('X',features)  \n",
        "#one hot encoding labels  \n",
        "labels = one_hot_encode(labels)  \n",
        "np.save=('y', labels)"
      ],
      "execution_count": 0,
      "outputs": [
        {
          "output_type": "stream",
          "text": [
            "\n",
            "collecting features and labels...\n",
            "\n",
            "this will take some time...\n",
            "done\n"
          ],
          "name": "stdout"
        }
      ]
    },
    {
      "cell_type": "code",
      "metadata": {
        "id": "Mg-RdK-E5ih0",
        "colab_type": "code",
        "outputId": "c7229d2e-3c0b-444d-ed3b-a28928b067e8",
        "colab": {
          "base_uri": "https://localhost:8080/",
          "height": 34
        }
      },
      "source": [
        "labels.shape"
      ],
      "execution_count": 0,
      "outputs": [
        {
          "output_type": "execute_result",
          "data": {
            "text/plain": [
              "(1440, 8)"
            ]
          },
          "metadata": {
            "tags": []
          },
          "execution_count": 94
        }
      ]
    },
    {
      "cell_type": "code",
      "metadata": {
        "id": "C2VAsBpd5kBR",
        "colab_type": "code",
        "outputId": "fb21c6c4-94b7-4de9-f439-6b99338a8ffa",
        "colab": {
          "base_uri": "https://localhost:8080/",
          "height": 34
        }
      },
      "source": [
        "features.shape"
      ],
      "execution_count": 0,
      "outputs": [
        {
          "output_type": "execute_result",
          "data": {
            "text/plain": [
              "(1440, 193)"
            ]
          },
          "metadata": {
            "tags": []
          },
          "execution_count": 95
        }
      ]
    },
    {
      "cell_type": "code",
      "metadata": {
        "id": "ybgKD7_F7Z9Y",
        "colab_type": "code",
        "colab": {}
      },
      "source": [
        "X=np.load('X.npy')  \n",
        "#X = fetures\n",
        "#y=np.load('y.npy') \n",
        "y=labels \n",
        "train_x, test_x, train_y, test_y = train_test_split(X, y, test_size=0.33, random_state=42)"
      ],
      "execution_count": 0,
      "outputs": []
    },
    {
      "cell_type": "code",
      "metadata": {
        "id": "njFkmwG2_mou",
        "colab_type": "code",
        "outputId": "c55972ef-8dd6-4f26-b60e-eff9dbf5f591",
        "colab": {
          "base_uri": "https://localhost:8080/",
          "height": 34
        }
      },
      "source": [
        "train_x.shape"
      ],
      "execution_count": 0,
      "outputs": [
        {
          "output_type": "execute_result",
          "data": {
            "text/plain": [
              "(964, 193)"
            ]
          },
          "metadata": {
            "tags": []
          },
          "execution_count": 98
        }
      ]
    },
    {
      "cell_type": "code",
      "metadata": {
        "id": "CTsRYUJ9AQ9e",
        "colab_type": "code",
        "outputId": "40e33b34-687c-4ef4-91bf-e89ef6593cb9",
        "colab": {
          "base_uri": "https://localhost:8080/",
          "height": 34
        }
      },
      "source": [
        "train_y.shape"
      ],
      "execution_count": 0,
      "outputs": [
        {
          "output_type": "execute_result",
          "data": {
            "text/plain": [
              "(964, 8)"
            ]
          },
          "metadata": {
            "tags": []
          },
          "execution_count": 99
        }
      ]
    },
    {
      "cell_type": "markdown",
      "metadata": {
        "id": "6Ml3Tz0WAcFR",
        "colab_type": "text"
      },
      "source": [
        "#Building Model"
      ]
    },
    {
      "cell_type": "code",
      "metadata": {
        "id": "u-t6SbuAATsq",
        "colab_type": "code",
        "colab": {}
      },
      "source": [
        "n_dim = train_x.shape[1]  \n",
        "n_classes = train_y.shape[1]  \n",
        "n_hidden_units_1 = n_dim  \n",
        "n_hidden_units_2 = 400            # approx n_dim * 2  \n",
        "n_hidden_units_3 = 200            # half of layer 2  \n",
        "n_hidden_units_4 = 100"
      ],
      "execution_count": 0,
      "outputs": []
    },
    {
      "cell_type": "code",
      "metadata": {
        "id": "KWimBofPAhR5",
        "colab_type": "code",
        "colab": {}
      },
      "source": [
        "def create_model(activation_function='relu', init_type='normal', optimiser='adam', dropout_rate=0.2):\n",
        "    model = Sequential()\n",
        "    model.add(Dense(n_hidden_units_1, input_dim=n_dim, init=init_type, activation=activation_function))\n",
        "    model.add(Dense(n_hidden_units_2, init=init_type, activation=activation_function))\n",
        "    model.add(Dropout(dropout_rate))\n",
        "    model.add(Dense(n_hidden_units_3, init=init_type, activation=activation_function))\n",
        "    model.add(Dropout(dropout_rate))\n",
        "    model.add(Dense(n_hidden_units_4, init=init_type, activation=activation_function))\n",
        "    model.add(Dropout(dropout_rate))\n",
        "    model.add(Dense(n_classes, init=init_type, activation='softmax'))\n",
        "    model.compile(loss='categorical_crossentropy', optimizer=optimiser, metrics=['accuracy'])\n",
        "    return model"
      ],
      "execution_count": 0,
      "outputs": []
    },
    {
      "cell_type": "code",
      "metadata": {
        "id": "0mINCqXXAwS4",
        "colab_type": "code",
        "outputId": "aa4ed53e-efbe-4101-f5f0-c08e39e01343",
        "colab": {
          "base_uri": "https://localhost:8080/",
          "height": 1000
        }
      },
      "source": [
        "model = create_model()  \n",
        "history = model.fit(train_x, train_y, epochs=200, batch_size=4)"
      ],
      "execution_count": 0,
      "outputs": [
        {
          "output_type": "stream",
          "text": [
            "WARNING: Logging before flag parsing goes to stderr.\n",
            "W0830 10:13:13.887290 139834460292992 deprecation_wrapper.py:119] From /usr/local/lib/python3.6/dist-packages/keras/backend/tensorflow_backend.py:66: The name tf.get_default_graph is deprecated. Please use tf.compat.v1.get_default_graph instead.\n",
            "\n",
            "/usr/local/lib/python3.6/dist-packages/ipykernel_launcher.py:3: UserWarning: Update your `Dense` call to the Keras 2 API: `Dense(193, input_dim=193, activation=\"relu\", kernel_initializer=\"normal\")`\n",
            "  This is separate from the ipykernel package so we can avoid doing imports until\n",
            "W0830 10:13:13.940941 139834460292992 deprecation_wrapper.py:119] From /usr/local/lib/python3.6/dist-packages/keras/backend/tensorflow_backend.py:541: The name tf.placeholder is deprecated. Please use tf.compat.v1.placeholder instead.\n",
            "\n",
            "W0830 10:13:13.947776 139834460292992 deprecation_wrapper.py:119] From /usr/local/lib/python3.6/dist-packages/keras/backend/tensorflow_backend.py:4409: The name tf.random_normal is deprecated. Please use tf.random.normal instead.\n",
            "\n",
            "/usr/local/lib/python3.6/dist-packages/ipykernel_launcher.py:4: UserWarning: Update your `Dense` call to the Keras 2 API: `Dense(400, activation=\"relu\", kernel_initializer=\"normal\")`\n",
            "  after removing the cwd from sys.path.\n",
            "W0830 10:13:13.978135 139834460292992 deprecation_wrapper.py:119] From /usr/local/lib/python3.6/dist-packages/keras/backend/tensorflow_backend.py:148: The name tf.placeholder_with_default is deprecated. Please use tf.compat.v1.placeholder_with_default instead.\n",
            "\n",
            "W0830 10:13:13.987418 139834460292992 deprecation.py:506] From /usr/local/lib/python3.6/dist-packages/keras/backend/tensorflow_backend.py:3733: calling dropout (from tensorflow.python.ops.nn_ops) with keep_prob is deprecated and will be removed in a future version.\n",
            "Instructions for updating:\n",
            "Please use `rate` instead of `keep_prob`. Rate should be set to `rate = 1 - keep_prob`.\n",
            "/usr/local/lib/python3.6/dist-packages/ipykernel_launcher.py:6: UserWarning: Update your `Dense` call to the Keras 2 API: `Dense(200, activation=\"relu\", kernel_initializer=\"normal\")`\n",
            "  \n",
            "/usr/local/lib/python3.6/dist-packages/ipykernel_launcher.py:8: UserWarning: Update your `Dense` call to the Keras 2 API: `Dense(100, activation=\"relu\", kernel_initializer=\"normal\")`\n",
            "  \n",
            "/usr/local/lib/python3.6/dist-packages/ipykernel_launcher.py:10: UserWarning: Update your `Dense` call to the Keras 2 API: `Dense(8, activation=\"softmax\", kernel_initializer=\"normal\")`\n",
            "  # Remove the CWD from sys.path while we load stuff.\n",
            "W0830 10:13:14.084436 139834460292992 deprecation_wrapper.py:119] From /usr/local/lib/python3.6/dist-packages/keras/optimizers.py:793: The name tf.train.Optimizer is deprecated. Please use tf.compat.v1.train.Optimizer instead.\n",
            "\n",
            "W0830 10:13:14.112967 139834460292992 deprecation_wrapper.py:119] From /usr/local/lib/python3.6/dist-packages/keras/backend/tensorflow_backend.py:3576: The name tf.log is deprecated. Please use tf.math.log instead.\n",
            "\n",
            "W0830 10:13:14.404150 139834460292992 deprecation.py:323] From /usr/local/lib/python3.6/dist-packages/tensorflow/python/ops/math_grad.py:1250: add_dispatch_support.<locals>.wrapper (from tensorflow.python.ops.array_ops) is deprecated and will be removed in a future version.\n",
            "Instructions for updating:\n",
            "Use tf.where in 2.0, which has the same broadcast rule as np.where\n"
          ],
          "name": "stderr"
        },
        {
          "output_type": "stream",
          "text": [
            "Epoch 1/200\n",
            "964/964 [==============================] - 6s 6ms/step - loss: 2.2695 - acc: 0.1473\n",
            "Epoch 2/200\n",
            "964/964 [==============================] - 1s 2ms/step - loss: 1.9870 - acc: 0.2023\n",
            "Epoch 3/200\n",
            "964/964 [==============================] - 1s 2ms/step - loss: 1.8948 - acc: 0.2365\n",
            "Epoch 4/200\n",
            "964/964 [==============================] - 2s 2ms/step - loss: 1.8397 - acc: 0.2573\n",
            "Epoch 5/200\n",
            "964/964 [==============================] - 1s 2ms/step - loss: 1.8063 - acc: 0.2832\n",
            "Epoch 6/200\n",
            "964/964 [==============================] - 2s 2ms/step - loss: 1.7782 - acc: 0.3029\n",
            "Epoch 7/200\n",
            "964/964 [==============================] - 2s 2ms/step - loss: 1.7306 - acc: 0.3185\n",
            "Epoch 8/200\n",
            "964/964 [==============================] - 2s 2ms/step - loss: 1.7037 - acc: 0.3122\n",
            "Epoch 9/200\n",
            "964/964 [==============================] - 2s 2ms/step - loss: 1.6959 - acc: 0.3361\n",
            "Epoch 10/200\n",
            "964/964 [==============================] - 2s 2ms/step - loss: 1.6290 - acc: 0.3506\n",
            "Epoch 11/200\n",
            "964/964 [==============================] - 2s 2ms/step - loss: 1.6127 - acc: 0.3683\n",
            "Epoch 12/200\n",
            "964/964 [==============================] - 2s 2ms/step - loss: 1.5920 - acc: 0.3662\n",
            "Epoch 13/200\n",
            "964/964 [==============================] - 2s 2ms/step - loss: 1.5906 - acc: 0.3766\n",
            "Epoch 14/200\n",
            "964/964 [==============================] - 1s 2ms/step - loss: 1.5351 - acc: 0.3932\n",
            "Epoch 15/200\n",
            "964/964 [==============================] - 2s 2ms/step - loss: 1.5257 - acc: 0.4087\n",
            "Epoch 16/200\n",
            "964/964 [==============================] - 1s 2ms/step - loss: 1.4791 - acc: 0.4263\n",
            "Epoch 17/200\n",
            "964/964 [==============================] - 2s 2ms/step - loss: 1.4704 - acc: 0.4253\n",
            "Epoch 18/200\n",
            "964/964 [==============================] - 2s 2ms/step - loss: 1.4352 - acc: 0.4471\n",
            "Epoch 19/200\n",
            "964/964 [==============================] - 1s 2ms/step - loss: 1.4253 - acc: 0.4481\n",
            "Epoch 20/200\n",
            "964/964 [==============================] - 2s 2ms/step - loss: 1.4488 - acc: 0.4461\n",
            "Epoch 21/200\n",
            "964/964 [==============================] - 2s 2ms/step - loss: 1.3904 - acc: 0.4741\n",
            "Epoch 22/200\n",
            "964/964 [==============================] - 2s 2ms/step - loss: 1.3494 - acc: 0.4710\n",
            "Epoch 23/200\n",
            "964/964 [==============================] - 2s 2ms/step - loss: 1.3142 - acc: 0.4813\n",
            "Epoch 24/200\n",
            "964/964 [==============================] - 2s 2ms/step - loss: 1.2860 - acc: 0.5083\n",
            "Epoch 25/200\n",
            "964/964 [==============================] - 2s 2ms/step - loss: 1.2943 - acc: 0.5031\n",
            "Epoch 26/200\n",
            "964/964 [==============================] - 2s 2ms/step - loss: 1.2877 - acc: 0.4876\n",
            "Epoch 27/200\n",
            "964/964 [==============================] - 2s 2ms/step - loss: 1.2934 - acc: 0.5021\n",
            "Epoch 28/200\n",
            "964/964 [==============================] - 2s 2ms/step - loss: 1.2219 - acc: 0.5342\n",
            "Epoch 29/200\n",
            "964/964 [==============================] - 2s 2ms/step - loss: 1.2368 - acc: 0.5311\n",
            "Epoch 30/200\n",
            "964/964 [==============================] - 1s 2ms/step - loss: 1.2570 - acc: 0.5166\n",
            "Epoch 31/200\n",
            "964/964 [==============================] - 2s 2ms/step - loss: 1.2394 - acc: 0.5363\n",
            "Epoch 32/200\n",
            "964/964 [==============================] - 2s 2ms/step - loss: 1.2087 - acc: 0.5332\n",
            "Epoch 33/200\n",
            "964/964 [==============================] - 2s 2ms/step - loss: 1.1481 - acc: 0.5571\n",
            "Epoch 34/200\n",
            "964/964 [==============================] - 2s 2ms/step - loss: 1.1794 - acc: 0.5488\n",
            "Epoch 35/200\n",
            "964/964 [==============================] - 2s 2ms/step - loss: 1.1676 - acc: 0.5519\n",
            "Epoch 36/200\n",
            "964/964 [==============================] - 2s 2ms/step - loss: 1.1172 - acc: 0.5705\n",
            "Epoch 37/200\n",
            "964/964 [==============================] - 2s 2ms/step - loss: 1.1348 - acc: 0.5705\n",
            "Epoch 38/200\n",
            "964/964 [==============================] - 2s 2ms/step - loss: 1.1659 - acc: 0.5519\n",
            "Epoch 39/200\n",
            "964/964 [==============================] - 1s 2ms/step - loss: 1.1029 - acc: 0.5737\n",
            "Epoch 40/200\n",
            "964/964 [==============================] - 2s 2ms/step - loss: 1.0532 - acc: 0.5871\n",
            "Epoch 41/200\n",
            "964/964 [==============================] - 1s 2ms/step - loss: 1.0610 - acc: 0.5861\n",
            "Epoch 42/200\n",
            "964/964 [==============================] - 2s 2ms/step - loss: 1.0644 - acc: 0.5892\n",
            "Epoch 43/200\n",
            "964/964 [==============================] - 2s 2ms/step - loss: 1.0100 - acc: 0.5892\n",
            "Epoch 44/200\n",
            "964/964 [==============================] - 2s 2ms/step - loss: 1.0966 - acc: 0.5861\n",
            "Epoch 45/200\n",
            "964/964 [==============================] - 2s 2ms/step - loss: 0.9933 - acc: 0.6048\n",
            "Epoch 46/200\n",
            "964/964 [==============================] - 2s 2ms/step - loss: 0.9814 - acc: 0.6203\n",
            "Epoch 47/200\n",
            "964/964 [==============================] - 2s 2ms/step - loss: 0.9695 - acc: 0.6245\n",
            "Epoch 48/200\n",
            "964/964 [==============================] - 1s 2ms/step - loss: 1.0333 - acc: 0.6037\n",
            "Epoch 49/200\n",
            "964/964 [==============================] - 2s 2ms/step - loss: 1.0121 - acc: 0.6068\n",
            "Epoch 50/200\n",
            "964/964 [==============================] - 2s 2ms/step - loss: 0.9988 - acc: 0.6079\n",
            "Epoch 51/200\n",
            "964/964 [==============================] - 2s 2ms/step - loss: 0.9591 - acc: 0.6369\n",
            "Epoch 52/200\n",
            "964/964 [==============================] - 2s 2ms/step - loss: 0.9514 - acc: 0.6276\n",
            "Epoch 53/200\n",
            "964/964 [==============================] - 2s 2ms/step - loss: 0.9867 - acc: 0.6100\n",
            "Epoch 54/200\n",
            "964/964 [==============================] - 2s 2ms/step - loss: 0.9490 - acc: 0.6390\n",
            "Epoch 55/200\n",
            "964/964 [==============================] - 2s 2ms/step - loss: 0.8892 - acc: 0.6463\n",
            "Epoch 56/200\n",
            "964/964 [==============================] - 2s 2ms/step - loss: 0.8742 - acc: 0.6566\n",
            "Epoch 57/200\n",
            "964/964 [==============================] - 2s 2ms/step - loss: 0.9473 - acc: 0.6432\n",
            "Epoch 58/200\n",
            "964/964 [==============================] - 2s 2ms/step - loss: 0.9001 - acc: 0.6649\n",
            "Epoch 59/200\n",
            "964/964 [==============================] - 2s 2ms/step - loss: 0.8887 - acc: 0.6587\n",
            "Epoch 60/200\n",
            "964/964 [==============================] - 1s 2ms/step - loss: 1.0094 - acc: 0.6286\n",
            "Epoch 61/200\n",
            "964/964 [==============================] - 2s 2ms/step - loss: 0.8651 - acc: 0.6660\n",
            "Epoch 62/200\n",
            "964/964 [==============================] - 1s 2ms/step - loss: 0.8334 - acc: 0.6784\n",
            "Epoch 63/200\n",
            "964/964 [==============================] - 1s 2ms/step - loss: 0.8140 - acc: 0.6888\n",
            "Epoch 64/200\n",
            "964/964 [==============================] - 1s 2ms/step - loss: 0.8903 - acc: 0.6774\n",
            "Epoch 65/200\n",
            "964/964 [==============================] - 1s 2ms/step - loss: 0.7829 - acc: 0.7044\n",
            "Epoch 66/200\n",
            "964/964 [==============================] - 2s 2ms/step - loss: 0.8180 - acc: 0.6971\n",
            "Epoch 67/200\n",
            "964/964 [==============================] - 1s 2ms/step - loss: 0.7687 - acc: 0.7137\n",
            "Epoch 68/200\n",
            "964/964 [==============================] - 1s 2ms/step - loss: 0.8551 - acc: 0.6763\n",
            "Epoch 69/200\n",
            "964/964 [==============================] - 1s 2ms/step - loss: 0.7948 - acc: 0.6846\n",
            "Epoch 70/200\n",
            "964/964 [==============================] - 2s 2ms/step - loss: 0.8156 - acc: 0.6971\n",
            "Epoch 71/200\n",
            "964/964 [==============================] - 1s 2ms/step - loss: 0.7534 - acc: 0.7178\n",
            "Epoch 72/200\n",
            "964/964 [==============================] - 2s 2ms/step - loss: 0.7464 - acc: 0.7293\n",
            "Epoch 73/200\n",
            "964/964 [==============================] - 2s 2ms/step - loss: 0.6794 - acc: 0.7344\n",
            "Epoch 74/200\n",
            "964/964 [==============================] - 2s 2ms/step - loss: 0.8729 - acc: 0.6815\n",
            "Epoch 75/200\n",
            "964/964 [==============================] - 2s 2ms/step - loss: 0.7344 - acc: 0.7210\n",
            "Epoch 76/200\n",
            "964/964 [==============================] - 2s 2ms/step - loss: 0.7521 - acc: 0.7064\n",
            "Epoch 77/200\n",
            "964/964 [==============================] - 2s 2ms/step - loss: 0.6749 - acc: 0.7365\n",
            "Epoch 78/200\n",
            "964/964 [==============================] - 2s 2ms/step - loss: 0.7069 - acc: 0.7230\n",
            "Epoch 79/200\n",
            "964/964 [==============================] - 2s 2ms/step - loss: 0.7420 - acc: 0.7324\n",
            "Epoch 80/200\n",
            "964/964 [==============================] - 2s 2ms/step - loss: 0.6233 - acc: 0.7531\n",
            "Epoch 81/200\n",
            "964/964 [==============================] - 2s 2ms/step - loss: 0.7374 - acc: 0.7261\n",
            "Epoch 82/200\n",
            "964/964 [==============================] - 1s 2ms/step - loss: 0.6209 - acc: 0.7707\n",
            "Epoch 83/200\n",
            "964/964 [==============================] - 2s 2ms/step - loss: 0.7305 - acc: 0.7386\n",
            "Epoch 84/200\n",
            "964/964 [==============================] - 2s 2ms/step - loss: 0.6307 - acc: 0.7552\n",
            "Epoch 85/200\n",
            "964/964 [==============================] - 1s 2ms/step - loss: 0.6950 - acc: 0.7573\n",
            "Epoch 86/200\n",
            "964/964 [==============================] - 1s 2ms/step - loss: 0.7556 - acc: 0.7220\n",
            "Epoch 87/200\n",
            "964/964 [==============================] - 1s 2ms/step - loss: 0.6321 - acc: 0.7697\n",
            "Epoch 88/200\n",
            "964/964 [==============================] - 2s 2ms/step - loss: 0.6608 - acc: 0.7438\n",
            "Epoch 89/200\n",
            "964/964 [==============================] - 1s 2ms/step - loss: 0.6856 - acc: 0.7614\n",
            "Epoch 90/200\n",
            "964/964 [==============================] - 2s 2ms/step - loss: 0.6838 - acc: 0.7355\n",
            "Epoch 91/200\n",
            "964/964 [==============================] - 1s 2ms/step - loss: 0.6488 - acc: 0.7552\n",
            "Epoch 92/200\n",
            "964/964 [==============================] - 2s 2ms/step - loss: 0.6219 - acc: 0.7500\n",
            "Epoch 93/200\n",
            "964/964 [==============================] - 1s 2ms/step - loss: 0.5542 - acc: 0.7925\n",
            "Epoch 94/200\n",
            "964/964 [==============================] - 2s 2ms/step - loss: 0.5782 - acc: 0.7687\n",
            "Epoch 95/200\n",
            "964/964 [==============================] - 2s 2ms/step - loss: 0.5900 - acc: 0.7687\n",
            "Epoch 96/200\n",
            "964/964 [==============================] - 2s 2ms/step - loss: 0.5843 - acc: 0.7676\n",
            "Epoch 97/200\n",
            "964/964 [==============================] - 1s 2ms/step - loss: 0.5404 - acc: 0.7894\n",
            "Epoch 98/200\n",
            "964/964 [==============================] - 2s 2ms/step - loss: 0.5697 - acc: 0.7977\n",
            "Epoch 99/200\n",
            "964/964 [==============================] - 2s 2ms/step - loss: 0.5898 - acc: 0.7676\n",
            "Epoch 100/200\n",
            "964/964 [==============================] - 2s 2ms/step - loss: 0.5486 - acc: 0.7946\n",
            "Epoch 101/200\n",
            "964/964 [==============================] - 2s 2ms/step - loss: 0.6106 - acc: 0.7801\n",
            "Epoch 102/200\n",
            "964/964 [==============================] - 1s 2ms/step - loss: 0.6704 - acc: 0.7697\n",
            "Epoch 103/200\n",
            "964/964 [==============================] - 2s 2ms/step - loss: 0.7155 - acc: 0.7562\n",
            "Epoch 104/200\n",
            "964/964 [==============================] - 2s 2ms/step - loss: 0.5892 - acc: 0.7977\n",
            "Epoch 105/200\n",
            "964/964 [==============================] - 2s 2ms/step - loss: 0.5281 - acc: 0.8039\n",
            "Epoch 106/200\n",
            "964/964 [==============================] - 2s 2ms/step - loss: 0.4803 - acc: 0.8112\n",
            "Epoch 107/200\n",
            "964/964 [==============================] - 2s 2ms/step - loss: 0.6179 - acc: 0.7936\n",
            "Epoch 108/200\n",
            "964/964 [==============================] - 2s 2ms/step - loss: 0.5374 - acc: 0.8039\n",
            "Epoch 109/200\n",
            "964/964 [==============================] - 2s 2ms/step - loss: 0.5366 - acc: 0.7863\n",
            "Epoch 110/200\n",
            "964/964 [==============================] - 2s 2ms/step - loss: 0.5541 - acc: 0.8039\n",
            "Epoch 111/200\n",
            "964/964 [==============================] - 1s 2ms/step - loss: 0.5864 - acc: 0.7946\n",
            "Epoch 112/200\n",
            "964/964 [==============================] - 2s 2ms/step - loss: 0.6187 - acc: 0.7790\n",
            "Epoch 113/200\n",
            "964/964 [==============================] - 2s 2ms/step - loss: 0.4698 - acc: 0.8164\n",
            "Epoch 114/200\n",
            "964/964 [==============================] - 2s 2ms/step - loss: 0.5349 - acc: 0.7894\n",
            "Epoch 115/200\n",
            "964/964 [==============================] - 2s 2ms/step - loss: 0.6003 - acc: 0.7894\n",
            "Epoch 116/200\n",
            "964/964 [==============================] - 1s 2ms/step - loss: 0.5402 - acc: 0.8143\n",
            "Epoch 117/200\n",
            "964/964 [==============================] - 2s 2ms/step - loss: 0.6259 - acc: 0.7936\n",
            "Epoch 118/200\n",
            "964/964 [==============================] - 2s 2ms/step - loss: 0.5797 - acc: 0.7811\n",
            "Epoch 119/200\n",
            "964/964 [==============================] - 2s 2ms/step - loss: 0.6789 - acc: 0.7749\n",
            "Epoch 120/200\n",
            "964/964 [==============================] - 1s 2ms/step - loss: 0.5656 - acc: 0.7770\n",
            "Epoch 121/200\n",
            "964/964 [==============================] - 1s 2ms/step - loss: 0.5343 - acc: 0.8247\n",
            "Epoch 122/200\n",
            "964/964 [==============================] - 1s 2ms/step - loss: 0.4121 - acc: 0.8548\n",
            "Epoch 123/200\n",
            "964/964 [==============================] - 2s 2ms/step - loss: 0.5028 - acc: 0.8133\n",
            "Epoch 124/200\n",
            "964/964 [==============================] - 2s 2ms/step - loss: 0.5083 - acc: 0.8154\n",
            "Epoch 125/200\n",
            "964/964 [==============================] - 2s 2ms/step - loss: 0.4241 - acc: 0.8454\n",
            "Epoch 126/200\n",
            "964/964 [==============================] - 1s 2ms/step - loss: 0.3651 - acc: 0.8641\n",
            "Epoch 127/200\n",
            "964/964 [==============================] - 1s 2ms/step - loss: 0.5095 - acc: 0.8164\n",
            "Epoch 128/200\n",
            "964/964 [==============================] - 2s 2ms/step - loss: 0.4035 - acc: 0.8465\n",
            "Epoch 129/200\n",
            "964/964 [==============================] - 2s 2ms/step - loss: 0.5128 - acc: 0.8154\n",
            "Epoch 130/200\n",
            "964/964 [==============================] - 2s 2ms/step - loss: 0.5361 - acc: 0.8102\n",
            "Epoch 131/200\n",
            "964/964 [==============================] - 2s 2ms/step - loss: 0.4724 - acc: 0.8444\n",
            "Epoch 132/200\n",
            "964/964 [==============================] - 2s 2ms/step - loss: 0.3605 - acc: 0.8589\n",
            "Epoch 133/200\n",
            "964/964 [==============================] - 2s 2ms/step - loss: 0.3917 - acc: 0.8683\n",
            "Epoch 134/200\n",
            "964/964 [==============================] - 1s 2ms/step - loss: 0.4410 - acc: 0.8548\n",
            "Epoch 135/200\n",
            "964/964 [==============================] - 2s 2ms/step - loss: 0.6917 - acc: 0.7998\n",
            "Epoch 136/200\n",
            "964/964 [==============================] - 2s 2ms/step - loss: 0.5010 - acc: 0.8257\n",
            "Epoch 137/200\n",
            "964/964 [==============================] - 1s 2ms/step - loss: 0.4846 - acc: 0.8506\n",
            "Epoch 138/200\n",
            "964/964 [==============================] - 2s 2ms/step - loss: 0.6821 - acc: 0.7946\n",
            "Epoch 139/200\n",
            "964/964 [==============================] - 2s 2ms/step - loss: 0.5486 - acc: 0.8205\n",
            "Epoch 140/200\n",
            "964/964 [==============================] - 1s 2ms/step - loss: 0.5333 - acc: 0.8174\n",
            "Epoch 141/200\n",
            "964/964 [==============================] - 2s 2ms/step - loss: 0.4971 - acc: 0.8320\n",
            "Epoch 142/200\n",
            "964/964 [==============================] - 1s 2ms/step - loss: 0.4002 - acc: 0.8610\n",
            "Epoch 143/200\n",
            "964/964 [==============================] - 2s 2ms/step - loss: 0.4438 - acc: 0.8714\n",
            "Epoch 144/200\n",
            "964/964 [==============================] - 2s 2ms/step - loss: 0.5791 - acc: 0.8216\n",
            "Epoch 145/200\n",
            "964/964 [==============================] - 2s 2ms/step - loss: 0.6437 - acc: 0.7977\n",
            "Epoch 146/200\n",
            "964/964 [==============================] - 1s 2ms/step - loss: 0.4809 - acc: 0.8288\n",
            "Epoch 147/200\n",
            "964/964 [==============================] - 2s 2ms/step - loss: 0.5063 - acc: 0.8154\n",
            "Epoch 148/200\n",
            "964/964 [==============================] - 2s 2ms/step - loss: 0.3662 - acc: 0.8745\n",
            "Epoch 149/200\n",
            "964/964 [==============================] - 2s 2ms/step - loss: 0.4592 - acc: 0.8506\n",
            "Epoch 150/200\n",
            "964/964 [==============================] - 2s 2ms/step - loss: 0.4381 - acc: 0.8475\n",
            "Epoch 151/200\n",
            "964/964 [==============================] - 2s 2ms/step - loss: 0.6229 - acc: 0.8091\n",
            "Epoch 152/200\n",
            "964/964 [==============================] - 1s 2ms/step - loss: 0.3658 - acc: 0.8662\n",
            "Epoch 153/200\n",
            "964/964 [==============================] - 2s 2ms/step - loss: 0.3477 - acc: 0.8797\n",
            "Epoch 154/200\n",
            "964/964 [==============================] - 2s 2ms/step - loss: 0.4367 - acc: 0.8496\n",
            "Epoch 155/200\n",
            "964/964 [==============================] - 2s 2ms/step - loss: 0.4257 - acc: 0.8672\n",
            "Epoch 156/200\n",
            "964/964 [==============================] - 2s 2ms/step - loss: 0.4598 - acc: 0.8454\n",
            "Epoch 157/200\n",
            "964/964 [==============================] - 2s 2ms/step - loss: 0.5339 - acc: 0.8195\n",
            "Epoch 158/200\n",
            "964/964 [==============================] - 2s 2ms/step - loss: 0.5643 - acc: 0.7977\n",
            "Epoch 159/200\n",
            "964/964 [==============================] - 2s 2ms/step - loss: 0.3519 - acc: 0.8828\n",
            "Epoch 160/200\n",
            "964/964 [==============================] - 2s 2ms/step - loss: 0.3333 - acc: 0.8724\n",
            "Epoch 161/200\n",
            "964/964 [==============================] - 2s 2ms/step - loss: 0.3655 - acc: 0.8693\n",
            "Epoch 162/200\n",
            "964/964 [==============================] - 2s 2ms/step - loss: 0.3731 - acc: 0.8703\n",
            "Epoch 163/200\n",
            "964/964 [==============================] - 2s 2ms/step - loss: 0.4254 - acc: 0.8631\n",
            "Epoch 164/200\n",
            "964/964 [==============================] - 2s 2ms/step - loss: 0.3642 - acc: 0.8610\n",
            "Epoch 165/200\n",
            "964/964 [==============================] - 2s 2ms/step - loss: 0.3836 - acc: 0.8745\n",
            "Epoch 166/200\n",
            "964/964 [==============================] - 1s 2ms/step - loss: 0.3786 - acc: 0.8714\n",
            "Epoch 167/200\n",
            "964/964 [==============================] - 2s 2ms/step - loss: 0.4494 - acc: 0.8485\n",
            "Epoch 168/200\n",
            "964/964 [==============================] - 2s 2ms/step - loss: 0.3167 - acc: 0.8807\n",
            "Epoch 169/200\n",
            "964/964 [==============================] - 2s 2ms/step - loss: 0.3938 - acc: 0.8579\n",
            "Epoch 170/200\n",
            "964/964 [==============================] - 1s 2ms/step - loss: 0.3541 - acc: 0.8745\n",
            "Epoch 171/200\n",
            "964/964 [==============================] - 2s 2ms/step - loss: 0.3988 - acc: 0.8558\n",
            "Epoch 172/200\n",
            "964/964 [==============================] - 2s 2ms/step - loss: 0.2873 - acc: 0.8963\n",
            "Epoch 173/200\n",
            "964/964 [==============================] - 1s 2ms/step - loss: 0.5141 - acc: 0.8402\n",
            "Epoch 174/200\n",
            "964/964 [==============================] - 2s 2ms/step - loss: 0.5217 - acc: 0.8382\n",
            "Epoch 175/200\n",
            "964/964 [==============================] - 1s 2ms/step - loss: 0.3310 - acc: 0.8714\n",
            "Epoch 176/200\n",
            "964/964 [==============================] - 1s 2ms/step - loss: 0.2459 - acc: 0.9180\n",
            "Epoch 177/200\n",
            "964/964 [==============================] - 2s 2ms/step - loss: 0.4674 - acc: 0.8434\n",
            "Epoch 178/200\n",
            "964/964 [==============================] - 2s 2ms/step - loss: 0.3599 - acc: 0.8807\n",
            "Epoch 179/200\n",
            "964/964 [==============================] - 2s 2ms/step - loss: 0.3703 - acc: 0.8672\n",
            "Epoch 180/200\n",
            "964/964 [==============================] - 2s 2ms/step - loss: 0.4891 - acc: 0.8402\n",
            "Epoch 181/200\n",
            "964/964 [==============================] - 2s 2ms/step - loss: 0.2813 - acc: 0.9118\n",
            "Epoch 182/200\n",
            "964/964 [==============================] - 1s 2ms/step - loss: 0.3490 - acc: 0.8672\n",
            "Epoch 183/200\n",
            "964/964 [==============================] - 1s 2ms/step - loss: 0.2379 - acc: 0.9139\n",
            "Epoch 184/200\n",
            "964/964 [==============================] - 2s 2ms/step - loss: 0.3522 - acc: 0.8817\n",
            "Epoch 185/200\n",
            "964/964 [==============================] - 1s 2ms/step - loss: 0.5416 - acc: 0.8351\n",
            "Epoch 186/200\n",
            "964/964 [==============================] - 2s 2ms/step - loss: 0.3153 - acc: 0.8952\n",
            "Epoch 187/200\n",
            "964/964 [==============================] - 1s 2ms/step - loss: 0.3778 - acc: 0.8651\n",
            "Epoch 188/200\n",
            "964/964 [==============================] - 2s 2ms/step - loss: 0.4986 - acc: 0.8475\n",
            "Epoch 189/200\n",
            "964/964 [==============================] - 1s 2ms/step - loss: 0.3243 - acc: 0.8859\n",
            "Epoch 190/200\n",
            "964/964 [==============================] - 2s 2ms/step - loss: 0.2828 - acc: 0.9035\n",
            "Epoch 191/200\n",
            "964/964 [==============================] - 2s 2ms/step - loss: 0.3850 - acc: 0.8672\n",
            "Epoch 192/200\n",
            "964/964 [==============================] - 2s 2ms/step - loss: 0.3458 - acc: 0.8963\n",
            "Epoch 193/200\n",
            "964/964 [==============================] - 1s 2ms/step - loss: 0.2934 - acc: 0.9004\n",
            "Epoch 194/200\n",
            "964/964 [==============================] - 2s 2ms/step - loss: 0.2585 - acc: 0.9077\n",
            "Epoch 195/200\n",
            "964/964 [==============================] - 2s 2ms/step - loss: 0.5283 - acc: 0.8382\n",
            "Epoch 196/200\n",
            "964/964 [==============================] - 1s 2ms/step - loss: 0.2640 - acc: 0.9056\n",
            "Epoch 197/200\n",
            "964/964 [==============================] - 1s 2ms/step - loss: 0.5834 - acc: 0.8475\n",
            "Epoch 198/200\n",
            "964/964 [==============================] - 2s 2ms/step - loss: 0.3344 - acc: 0.8797\n",
            "Epoch 199/200\n",
            "964/964 [==============================] - 2s 2ms/step - loss: 0.3111 - acc: 0.8952\n",
            "Epoch 200/200\n",
            "964/964 [==============================] - 1s 2ms/step - loss: 0.3265 - acc: 0.8786\n"
          ],
          "name": "stdout"
        }
      ]
    },
    {
      "cell_type": "markdown",
      "metadata": {
        "id": "bTeVOa2qD0bT",
        "colab_type": "text"
      },
      "source": [
        "#Model Prediction"
      ]
    },
    {
      "cell_type": "code",
      "metadata": {
        "id": "uypjOtrBA8Gs",
        "colab_type": "code",
        "colab": {}
      },
      "source": [
        "predict=model.predict(test_x,batch_size=4)"
      ],
      "execution_count": 0,
      "outputs": []
    },
    {
      "cell_type": "code",
      "metadata": {
        "id": "5-xV0Q1UIXOT",
        "colab_type": "code",
        "outputId": "8f0a3cf3-61ae-4752-d814-aff3f0bc6ba9",
        "colab": {
          "base_uri": "https://localhost:8080/",
          "height": 34
        }
      },
      "source": [
        "predict.shape"
      ],
      "execution_count": 0,
      "outputs": [
        {
          "output_type": "execute_result",
          "data": {
            "text/plain": [
              "(476, 8)"
            ]
          },
          "metadata": {
            "tags": []
          },
          "execution_count": 108
        }
      ]
    },
    {
      "cell_type": "code",
      "metadata": {
        "id": "0zrZiYdBCmE4",
        "colab_type": "code",
        "colab": {}
      },
      "source": [
        "emotions=['neutral', 'calm', 'happy', 'sad', 'angry', 'fearful', 'disgust', 'surprised']  \n",
        "\n",
        "y_pred = np.argmax(predict, 1)  \n",
        "predicted_emo=[]   \n",
        "for i in range(0,test_y.shape[0]):  \n",
        "  emo=emotions[y_pred[i]]  \n",
        "  predicted_emo.append(emo)"
      ],
      "execution_count": 0,
      "outputs": []
    },
    {
      "cell_type": "code",
      "metadata": {
        "id": "w2573r6IDXJP",
        "colab_type": "code",
        "colab": {}
      },
      "source": [
        "actual_emo=[]  \n",
        "y_true=np.argmax(test_y, 1)  \n",
        "for i in range(0,test_y.shape[0]):  \n",
        "  emo=emotions[y_true[i]]  \n",
        "  actual_emo.append(emo)"
      ],
      "execution_count": 0,
      "outputs": []
    },
    {
      "cell_type": "code",
      "metadata": {
        "id": "YBLw2D76DhTG",
        "colab_type": "code",
        "outputId": "47ae0dcb-ca46-4b50-e29d-a138d5f23eb4",
        "colab": {
          "base_uri": "https://localhost:8080/",
          "height": 400
        }
      },
      "source": [
        "cm =confusion_matrix(actual_emo, predicted_emo)  \n",
        "index = ['angry', 'calm', 'disgust', 'fearful', 'happy', 'neutral', 'sad', 'surprised']  \n",
        "columns = ['angry', 'calm', 'disgust', 'fearful', 'happy', 'neutral', 'sad', 'surprised']  \n",
        "cm_df = pd.DataFrame(cm,index,columns)                      \n",
        "plt.figure(figsize=(10,6))  \n",
        "sns.heatmap(cm_df, annot=True)  "
      ],
      "execution_count": 0,
      "outputs": [
        {
          "output_type": "execute_result",
          "data": {
            "text/plain": [
              "<matplotlib.axes._subplots.AxesSubplot at 0x7f2d401e8588>"
            ]
          },
          "metadata": {
            "tags": []
          },
          "execution_count": 107
        },
        {
          "output_type": "display_data",
          "data": {
            "image/png": "[encoded data removed]",
            "text/plain": [
              "<Figure size 720x432 with 2 Axes>"
            ]
          },
          "metadata": {
            "tags": []
          }
        }
      ]
    },
    {
      "cell_type": "code",
      "metadata": {
        "id": "51fNx0RjDyo7",
        "colab_type": "code",
        "colab": {}
      },
      "source": [
        ""
      ],
      "execution_count": 0,
      "outputs": []
    }
  ]
}